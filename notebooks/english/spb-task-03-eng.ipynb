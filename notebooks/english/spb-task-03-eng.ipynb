{
 "cells": [
  {
   "cell_type": "markdown",
   "metadata": {},
   "source": [
    "# SPB III: Control Flow\n",
    "---\n",
    "\n",
    "This exercise will introduce you to the use of conditional statements, loops, and recursive functions.\n",
    "\n",
    "Hints:\n",
    "- Remember that the result of each branch of a conditional statement must be of the same type.\n",
    "- Outside of a sequence expression, loops can only return a result of type Unit."
   ]
  },
  {
   "cell_type": "markdown",
   "metadata": {},
   "source": [
    "# Task 1: If-then-else"
   ]
  },
  {
   "cell_type": "markdown",
   "metadata": {},
   "source": [
    "## Task 1.1\n",
    "\n",
    "Declare a function `isBiggerThanZero'` that receives a parameter `x` of type `float`. If the value of `x` is greater than zero, the function should return `true`. If not, `false` should be returned. The return value should be of type `bool`."
   ]
  },
  {
   "cell_type": "code",
   "execution_count": null,
   "metadata": {
    "dotnet_interactive": {
     "language": "fsharp"
    }
   },
   "outputs": [],
   "source": [
    "\n"
   ]
  },
  {
   "cell_type": "markdown",
   "metadata": {},
   "source": [
    "## Task 1.2\n",
    "\n",
    "Declare a function `returnBiggestOfThree`, which receives three numbers of type `float` as parameters. The largest of the three numbers is to be output as the result, of type `float`.\n",
    "\n",
    "Hint: `elif`"
   ]
  },
  {
   "cell_type": "code",
   "execution_count": null,
   "metadata": {
    "dotnet_interactive": {
     "language": "fsharp"
    }
   },
   "outputs": [],
   "source": [
    "\n"
   ]
  },
  {
   "cell_type": "markdown",
   "metadata": {},
   "source": [
    "## Task 1.3\n",
    "\n",
    "Declare a function `isLeapYear`, which receives a year as a parameter of type `int`. If it is a leap year, the result should be `true`, otherwise `false`. The return value should be of type `bool`.\n",
    "\n",
    "Hints:  \n",
    "- If the year is divisible by four but not by 100, it is a leap year. 2008 falls under this rule. \n",
    "- If the year is divisible by 100 but not by 400, it is not a leap year. 2100 will not be a leap year.  \n",
    "- If the year is divisible by 400, then it is always a leap year. Therefore, the year 2000 was a leap year."
   ]
  },
  {
   "cell_type": "code",
   "execution_count": null,
   "metadata": {
    "dotnet_interactive": {
     "language": "fsharp"
    }
   },
   "outputs": [],
   "source": [
    "\n"
   ]
  },
  {
   "cell_type": "markdown",
   "metadata": {},
   "source": [
    "# Task 2: Pattern matching"
   ]
  },
  {
   "cell_type": "markdown",
   "metadata": {},
   "source": [
    "## Task 2.1\n",
    "\n",
    "Declare a function `isBiggerThanZero'` with the same properties as described in Task 1.1. Do without if-then-else expressions and use pattern matching.\n",
    "\n",
    "Hint: Guarding Rules & Wildcard"
   ]
  },
  {
   "cell_type": "code",
   "execution_count": null,
   "metadata": {
    "dotnet_interactive": {
     "language": "fsharp"
    }
   },
   "outputs": [],
   "source": [
    "\n"
   ]
  },
  {
   "cell_type": "markdown",
   "metadata": {},
   "source": [
    "## Task 2.2\n",
    "\n",
    "Given is the UnionCase definition `Month` and the UnionCase definition `Season`.\n",
    "\n",
    "Declare a function that has a parameter `m` of type `Month`. Use pattern matching to return the correct season for the month. The return value should be of type `Season`."
   ]
  },
  {
   "cell_type": "code",
   "execution_count": null,
   "metadata": {
    "dotnet_interactive": {
     "language": "fsharp"
    }
   },
   "outputs": [],
   "source": [
    "type Month =\n",
    "    | January\n",
    "    | February\n",
    "    | March\n",
    "    | April\n",
    "    | May\n",
    "    | June\n",
    "    | July\n",
    "    | August\n",
    "    | September\n",
    "    | October\n",
    "    | November\n",
    "    | December\n",
    "\n",
    "type Season =\n",
    "    | Spring\n",
    "    | Summer\n",
    "    | Autumn\n",
    "    | Winter"
   ]
  },
  {
   "cell_type": "markdown",
   "metadata": {},
   "source": [
    "## Task 2.3\n",
    "\n",
    "Declare a record type `Person`, with the fields `FirstName: string` and `LastName: string`. Declare a function `isMueller` that receives a parameter of type `Person` and returns `true` if `LastName` is `\"Mueller\"`. Use pattern matching in combination with record type deconstruction. The return value should be of type `bool`.\n",
    "\n",
    "Hint: [Pattern Matching with Records](https://docs.microsoft.com/en-us/dotnet/fsharp/language-reference/records#pattern-matching-with-records)"
   ]
  },
  {
   "cell_type": "code",
   "execution_count": null,
   "metadata": {
    "dotnet_interactive": {
     "language": "fsharp"
    }
   },
   "outputs": [],
   "source": [
    "\n"
   ]
  },
  {
   "cell_type": "markdown",
   "metadata": {},
   "source": [
    "# Task 3: Loops"
   ]
  },
  {
   "cell_type": "markdown",
   "metadata": {},
   "source": [
    "## Task 3.1\n",
    "\n",
    "Declare a function `printNumbersToN` that receives a parameter `n` of type `int`.  The function should print all integers from 1 to, and including, n to the console (hint: `printfn`). Use a `for` loop for this. The return value should be of type `unit`."
   ]
  },
  {
   "cell_type": "code",
   "execution_count": null,
   "metadata": {
    "dotnet_interactive": {
     "language": "fsharp"
    }
   },
   "outputs": [],
   "source": [
    "\n"
   ]
  },
  {
   "cell_type": "markdown",
   "metadata": {},
   "source": [
    "## Task 3.2\n",
    "\n",
    "Declare a function `createNumberListToN` that receives a parameter `n` of type `int`. The function should return a list of all integers from 1 to, and including, `n`. The return value should be of type `int list`.\n",
    "\n",
    "Tips: Sequence Expressions, Comprehensions  \n",
    "\n",
    "**Extra point:** Declare a function `createEvenNumberListToN`, following the same rules as `createNumberListToN`, except that the return value should only contain even integers.\n",
    "\n",
    "Tips: if-then-else, modulo."
   ]
  },
  {
   "cell_type": "code",
   "execution_count": null,
   "metadata": {
    "dotnet_interactive": {
     "language": "fsharp"
    }
   },
   "outputs": [],
   "source": [
    "\n"
   ]
  },
  {
   "cell_type": "markdown",
   "metadata": {},
   "source": [
    "## Task 3.3\n",
    "\n",
    "Declare a function `mapFNumberList` that takes a parameter `n` of type `int` and a parameter `f` with the signature `(int -> int)`.  \n",
    "The function should apply `f` to all integers from 1 to, including, `n` and then return the results in a list. The return value should be of type `int list`.\n",
    "\n",
    "Hints: Sequence expressions, comprehensions."
   ]
  },
  {
   "cell_type": "code",
   "execution_count": null,
   "metadata": {
    "dotnet_interactive": {
     "language": "fsharp"
    }
   },
   "outputs": [],
   "source": [
    "\n"
   ]
  },
  {
   "cell_type": "markdown",
   "metadata": {},
   "source": [
    "# Task 4: Recursion"
   ]
  },
  {
   "cell_type": "markdown",
   "metadata": {},
   "source": [
    "## Task 4.1\n",
    "\n",
    "Modify the following function `climbStep` (known from the lecture) so that it returns at the end how many steps have been climbed. Where `nSteps` is the number of steps to climb and `position` is the start position. The return value should be the number of steps actually climbed and of type `int`. \n",
    "\n",
    "The function may be adapted to the extent that `nSteps` and `position` must still be given as parameters and the steps to be ascended should continue to be handled recursively.\n",
    "\n",
    "```fsharp\n",
    "let rec climbStep (nSteps: int) (position: int) =\n",
    "    if position = nSteps + 1 then\n",
    "        printfn \"Puh, done\"\n",
    "    else\n",
    "        printfn \"I should do more sports\"\n",
    "        climbStep nSteps (position + 1)\n",
    "```"
   ]
  },
  {
   "cell_type": "code",
   "execution_count": null,
   "metadata": {
    "dotnet_interactive": {
     "language": "fsharp"
    }
   },
   "outputs": [],
   "source": [
    "\n"
   ]
  },
  {
   "cell_type": "markdown",
   "metadata": {},
   "source": [
    "## Task 4.2\n",
    "\n",
    "Modify the following function `factorial` (known from the lecture) so that it returns -1 if it is foreseeable that the result will be greater than 1000. The return value should be of type `int`.\n",
    "\n",
    "Hint: Use the `print` function to visualize intermediate result and to better understand the function. E.g.: `printfn \"n:%i, acc':%i\" n acc`.\n",
    "\n",
    "```fsharp\n",
    "let rec factorial acc n  =\n",
    "    if n = 1 then\n",
    "        acc \n",
    "    else\n",
    "        let acc' = n * acc\n",
    "        factorial acc' (n-1)\n",
    "\n",
    "factorial 1 4\n",
    "```"
   ]
  },
  {
   "cell_type": "code",
   "execution_count": null,
   "metadata": {
    "dotnet_interactive": {
     "language": "fsharp"
    }
   },
   "outputs": [],
   "source": [
    "\n"
   ]
  }
 ],
 "metadata": {
  "kernelspec": {
   "display_name": ".NET (F#)",
   "language": "F#",
   "name": ".net-fsharp"
  },
  "langauge_info": {
   "file_extension": ".fs",
   "mimetype": "text/x-fsharp",
   "name": "C#",
   "pygments_lexer": "fsharp",
   "version": "4.5"
  },
  "language_info": {
   "name": "polyglot-notebook"
  },
  "polyglot_notebook": {
   "kernelInfo": {
    "defaultKernelName": "fsharp",
    "items": [
     {
      "aliases": [],
      "name": "fsharp"
     }
    ]
   }
  }
 },
 "nbformat": 4,
 "nbformat_minor": 1
}
