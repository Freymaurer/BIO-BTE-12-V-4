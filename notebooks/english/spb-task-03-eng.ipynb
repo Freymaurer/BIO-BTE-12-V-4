{
 "cells": [
  {
   "cell_type": "markdown",
   "metadata": {},
   "source": [
    "# SPB III: Control Flow\n",
    "---\n",
    "\n",
    "This exercise will introduce you to the use of conditional statements, loops, and recursive functions.\n",
    "\n",
    "Hints:\n",
    "- Remember that the result of each branch of a conditional statement must be of the same type.\n",
    "- Outside of a sequence expression, loops can only return a result of type Unit."
   ]
  },
  {
   "cell_type": "markdown",
   "metadata": {},
   "source": [
    "# Task 1: If-then-else"
   ]
  },
  {
   "cell_type": "markdown",
   "metadata": {},
   "source": [
    "## Task 1.1\n",
    "\n",
    "Declare a function `isBiggerThanZero'` that receives a parameter `x` of type `float`. If the value of `x` is greater than zero, the function should return `true`. If not, `false` should be returned. The return value should be of type `bool`."
   ]
  },
  {
   "cell_type": "code",
   "execution_count": 3,
   "metadata": {
    "dotnet_interactive": {
     "language": "fsharp"
    }
   },
   "outputs": [],
   "source": [
    "\n"
   ]
  },
  {
   "cell_type": "markdown",
   "metadata": {},
   "source": [
    "## Task 1.2\n",
    "\n",
    "Declare a function `returnBiggestOfThree`, which receives three numbers of type `float` as parameters. The largest of the three numbers is to be output as the result, of type `float`.\n",
    "\n",
    "Hint: `elif`"
   ]
  },
  {
   "cell_type": "code",
   "execution_count": 4,
   "metadata": {
    "dotnet_interactive": {
     "language": "fsharp"
    }
   },
   "outputs": [],
   "source": [
    "\n"
   ]
  },
  {
   "cell_type": "markdown",
   "metadata": {},
   "source": [
    "## Task 1.3\n",
    "\n",
    "Declare a function `isLeapYear`, which receives a year as a parameter of type `int`. If it is a leap year, the result should be `true`, otherwise `false`. The return value should be of type `bool`.\n",
    "\n",
    "Hints:  \n",
    "- If the year is divisible by four but not by 100, it is a leap year. 2008 falls under this rule. \n",
    "- If the year is divisible by 100 but not by 400, it is not a leap year. 2100 will not be a leap year.  \n",
    "- If the year is divisible by 400, then it is always a leap year. Therefore, the year 2000 was a leap year."
   ]
  },
  {
   "cell_type": "code",
   "execution_count": 5,
   "metadata": {
    "dotnet_interactive": {
     "language": "fsharp"
    }
   },
   "outputs": [],
   "source": [
    "\n"
   ]
  },
  {
   "cell_type": "markdown",
   "metadata": {},
   "source": [
    "# Task 2: Pattern matching"
   ]
  },
  {
   "cell_type": "markdown",
   "metadata": {},
   "source": [
    "## Task 2.1\n",
    "\n",
    "Declare a function `isBiggerThanZero'` with the same properties as described in Task 1.1. Do without if-then-else expressions and use pattern matching.\n",
    "\n",
    "Hint: Guarding Rules & Wildcard"
   ]
  },
  {
   "cell_type": "code",
   "execution_count": 6,
   "metadata": {
    "dotnet_interactive": {
     "language": "fsharp"
    }
   },
   "outputs": [],
   "source": [
    "\n"
   ]
  },
  {
   "cell_type": "markdown",
   "metadata": {},
   "source": [
    "## Task 2.2\n",
    "\n",
    "Given is the UnionCase definition `Month` and the UnionCase definition `Season`.\n",
    "\n",
    "Declare a function that has a parameter `m` of type `Month`. Use pattern matching to return the correct season for the month. The return value should be of type `Season`."
   ]
  },
  {
   "cell_type": "code",
   "execution_count": 7,
   "metadata": {
    "dotnet_interactive": {
     "language": "fsharp"
    }
   },
   "outputs": [],
   "source": [
    "type Month =\n",
    "    | January\n",
    "    | February\n",
    "    | March\n",
    "    | April\n",
    "    | May\n",
    "    | June\n",
    "    | July\n",
    "    | August\n",
    "    | September\n",
    "    | October\n",
    "    | November\n",
    "    | December\n",
    "\n",
    "type Season =\n",
    "    | Spring\n",
    "    | Summer\n",
    "    | Autumn\n",
    "    | Winter"
   ]
  },
  {
   "cell_type": "markdown",
   "metadata": {},
   "source": [
    "## Task 2.3\n",
    "\n",
    "Declare a record type `Person`, with the fields `FirstName: string` and `LastName: string`. Declare a function `isMueller` that receives a parameter of type `Person` and returns `true` if `LastName` is `\"Mueller\"`. Use pattern matching in combination with record type deconstruction. The return value should be of type `bool`.\n",
    "\n",
    "Hint: [Pattern Matching with Records](https://docs.microsoft.com/en-us/dotnet/fsharp/language-reference/records#pattern-matching-with-records)"
   ]
  },
  {
   "cell_type": "code",
   "execution_count": 8,
   "metadata": {
    "dotnet_interactive": {
     "language": "fsharp"
    }
   },
   "outputs": [],
   "source": [
    "\n"
   ]
  },
  {
   "cell_type": "markdown",
   "metadata": {},
   "source": [
    "# Task 3: Loops"
   ]
  },
  {
   "cell_type": "markdown",
   "metadata": {},
   "source": [
    "## Task 3.1\n",
    "\n",
    "Declare a function `printNumbersToN` that receives a parameter `n` of type `int`.  The function should print all integers from 1 to, and including, n to the console (hint: `printfn`). Use a `for` loop for this. The return value should be of type `unit`."
   ]
  },
  {
   "cell_type": "code",
   "execution_count": 9,
   "metadata": {
    "dotnet_interactive": {
     "language": "fsharp"
    }
   },
   "outputs": [],
   "source": [
    "\n"
   ]
  },
  {
   "cell_type": "markdown",
   "metadata": {},
   "source": [
    "## Task 3.2\n",
    "\n",
    "Declare a function `createNumberListToN` that receives a parameter `n` of type `int`. The function should return a list of all integers from 1 to, and including, `n`. The return value should be of type `int list`.\n",
    "\n",
    "Tips: Sequence Expressions, Comprehensions  \n",
    "\n",
    "**Extra point:** Declare a function `createEvenNumberListToN`, following the same rules as `createNumberListToN`, except that the return value should only contain even integers.\n",
    "\n",
    "Tips: if-then-else, modulo."
   ]
  },
  {
   "cell_type": "code",
   "execution_count": 10,
   "metadata": {
    "dotnet_interactive": {
     "language": "fsharp"
    }
   },
   "outputs": [],
   "source": [
    "\n"
   ]
  },
  {
   "cell_type": "markdown",
   "metadata": {},
   "source": [
    "## Task 3.3\n",
    "\n",
    "Declare a function `mapFNumberList` that takes a parameter `n` of type `int` and a parameter `f` with the signature `(int -> int)`.  \n",
    "The function should apply `f` to all integers from 1 to, including, `n` and then return the results in a list. The return value should be of type `int list`.\n",
    "\n",
    "Hints: Sequence expressions, comprehensions."
   ]
  },
  {
   "cell_type": "code",
   "execution_count": 11,
   "metadata": {
    "dotnet_interactive": {
     "language": "fsharp"
    }
   },
   "outputs": [],
   "source": [
    "\n"
   ]
  },
  {
   "cell_type": "markdown",
   "metadata": {},
   "source": [
    "# Task 4: Recursion"
   ]
  },
  {
   "cell_type": "markdown",
   "metadata": {},
   "source": [
    "## Task 4.1\n",
    "\n",
    "Given is the Union Type `RussianDoll`, which represents the famous Russian [Matryoshka](https://en.wikipedia.org/wiki/Matryoshka_doll) dolls. These are known to be nestable. We now want to write a function that counts the number of nested dolls. To do this, define a function `countDolls` that receives a parameter `dolls` of type `RussianDoll`. Use match cases to count the dolls using a recursive function. The return value of the function should be the number of dolls of type `int`.\n",
    "\n",
    "```fsharp\n",
    "type RussianDoll =\n",
    "| Doll\n",
    "| LayeredDoll of RussianDoll\n",
    "```"
   ]
  },
  {
   "cell_type": "code",
   "execution_count": 12,
   "metadata": {
    "dotnet_interactive": {
     "language": "fsharp"
    },
    "polyglot_notebook": {
     "kernelName": "fsharp"
    }
   },
   "outputs": [],
   "source": []
  },
  {
   "cell_type": "markdown",
   "metadata": {},
   "source": [
    "## Task 4.2\n",
    "\n",
    "Write a recursive function `fillGlass`. A glass is to be filled with predefined amounts of water until a certain limit value is reached. The function has 3 parameters:\n",
    "- `glassFillLevel`, of type `float`. Represents the current amount of water in the glass.\n",
    "- `waterQuantities`, of type `float list`. Represents the order and quantities of water to be added. See as **example** `exampleQuantities`.\n",
    "- `limit`, of type `float`. Represents the amount of water we do not want to exceed.\n",
    "\n",
    "Use recursion before each filling step to compare the amount of water in the glass with the limit, so that the amount of water in the glas is not increased if the result exceeds the limit. The return value of the function should be the amount of water in the glass (of type `float`) before the limit is exceeded.\n",
    "\n",
    "Tips: \n",
    "- How does your function behave at different starting `glassFillLevel`s.\n",
    "- How does your function behave at different `limit` values.\n",
    "- How does your function behave with different `waterQuantities`.\n",
    "- How does your function behave if there are not enough `waterQuantities` to fill the glass to the limit value.\n",
    "\n",
    "```fsharp\n",
    "let emptyGlass = 0.0\n",
    "\n",
    "let exampleQuantities : float list = [\n",
    "    0.102; 0.207; 0.001; 0.187; 0.052; 0.147; \n",
    "    0.079; 0.225; 0.115; 0.117; 0.042; 0.081; 0.147; \n",
    "    0.116; 0.024; 0.056; 0.116; 0.041; 0.066; 0.079\n",
    "  ]\n",
    "```\n",
    "\n",
    "**Extra point:** The parameter `limit` does not change during the recursion. Modify the function `fillGlass` so that the parameter `limit` can still be set as a parameter of type `float`, but it no longer has to be given as part of the recursive function."
   ]
  },
  {
   "cell_type": "code",
   "execution_count": 13,
   "metadata": {
    "dotnet_interactive": {
     "language": "fsharp"
    }
   },
   "outputs": [],
   "source": []
  },
  {
   "cell_type": "markdown",
   "metadata": {},
   "source": [
    "## Task 4.3\n",
    "\n",
    "Modify the following function `factorial` (known from the lecture) so that it returns -1 if it is foreseeable that the result will be greater than 1000. The return value should be of type `int`.\n",
    "\n",
    "Hint: Use the `print` function to visualize intermediate result and to better understand the function. E.g.: `printfn \"n:%i, acc':%i\" n acc`.\n",
    "\n",
    "```fsharp\n",
    "let rec factorial acc n  =\n",
    "    if n = 1 then\n",
    "        acc \n",
    "    else\n",
    "        let acc' = n * acc\n",
    "        factorial acc' (n-1)\n",
    "\n",
    "factorial 1 4\n",
    "```"
   ]
  },
  {
   "cell_type": "code",
   "execution_count": 14,
   "metadata": {
    "dotnet_interactive": {
     "language": "fsharp"
    }
   },
   "outputs": [],
   "source": [
    "\n"
   ]
  }
 ],
 "metadata": {
  "kernelspec": {
   "display_name": ".NET (F#)",
   "language": "F#",
   "name": ".net-fsharp"
  },
  "langauge_info": {
   "file_extension": ".fs",
   "mimetype": "text/x-fsharp",
   "name": "C#",
   "pygments_lexer": "fsharp",
   "version": "4.5"
  },
  "language_info": {
   "name": "polyglot-notebook"
  },
  "polyglot_notebook": {
   "kernelInfo": {
    "defaultKernelName": "fsharp",
    "items": [
     {
      "aliases": [],
      "name": "fsharp"
     }
    ]
   }
  }
 },
 "nbformat": 4,
 "nbformat_minor": 1
}
