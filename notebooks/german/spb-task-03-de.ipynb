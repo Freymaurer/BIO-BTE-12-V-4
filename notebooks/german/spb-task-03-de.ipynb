{
 "cells": [
  {
   "cell_type": "markdown",
   "metadata": {},
   "source": [
    "# SPB III: Control Flow\n",
    "---\n",
    "\n",
    "In dieser Übung werden Sie an den Umgang mit konditionellen Anweisungen, Schleifen und rekursiven Funktionen herangeführt.\n",
    "\n",
    "Hinweise:\n",
    "- Denkt daran, dass das Ergebniss jeder Abzweigung einer konditionellen Anweisung vom gleichen Typ sein muss.\n",
    "- Außerhalb einer \"Sequence Expression\" können Schleifen nur ein Ergebnis des Typs Unit zurückgeben.\n"
   ]
  },
  {
   "cell_type": "markdown",
   "metadata": {},
   "source": [
    "# Task 1: If-then-else"
   ]
  },
  {
   "cell_type": "markdown",
   "metadata": {},
   "source": [
    "## Task 1.1\n",
    "\n",
    "Deklariere eine Funktion `isBiggerThanZero`, die einen Parameter `x` vom Typ `float` erhaelt. Ist der Wert von `x` groesser Null, soll die Funktion `true` zurückgeben. Falls nicht, soll `false` zurueckgegeben werden. Der Rueckgabewert sollte vom Typ `bool` sein."
   ]
  },
  {
   "cell_type": "code",
   "execution_count": null,
   "metadata": {
    "dotnet_interactive": {
     "language": "fsharp"
    }
   },
   "outputs": [],
   "source": [
    "\n"
   ]
  },
  {
   "cell_type": "markdown",
   "metadata": {},
   "source": [
    "## Task 1.2\n",
    "\n",
    "Deklariere eine Funktion `returnBiggestOfThree`, die drei Zahlen vom Typ `float` als Parameter bekommt. Die groesste der drei Zahlen soll als Ergebnis, vom Typ `float`, ausgegeben werden.\n",
    "\n",
    "Tipp: `elif`"
   ]
  },
  {
   "cell_type": "code",
   "execution_count": null,
   "metadata": {
    "dotnet_interactive": {
     "language": "fsharp"
    }
   },
   "outputs": [],
   "source": [
    "\n"
   ]
  },
  {
   "cell_type": "markdown",
   "metadata": {},
   "source": [
    "## Task 1.3\n",
    "\n",
    "Deklariere eine Funktion `isLeapYear`, die eine Jahreszahl als Parameter vom Typ `int` bekommt. Wenn es sich um ein Schaltjahr handelt, soll das Ergebnis `true` sein, andernfalls `false`. Der Rueckgabewert sollte vom Typ `bool` sein.\n",
    "\n",
    "Tipps:  \n",
    "- Ist die Jahreszahl durch vier teilbar, aber nicht durch 100, ist es ein Schaltjahr. 2008 faellt unter diese Regel.  \n",
    "- Ist die Jahreszahl durch 100 teilbar, aber nicht durch 400, ist es kein Schaltjahr. 2100 wird kein Schaltjahr sein.  \n",
    "- Ist die Jahreszahl durch 400 teilbar, dann ist es immer ein Schaltjahr. Deshalb war das Jahr 2000 ein Schaltjahr."
   ]
  },
  {
   "cell_type": "code",
   "execution_count": null,
   "metadata": {
    "dotnet_interactive": {
     "language": "fsharp"
    }
   },
   "outputs": [],
   "source": [
    "\n"
   ]
  },
  {
   "cell_type": "markdown",
   "metadata": {},
   "source": [
    "# Task 2: Pattern matching"
   ]
  },
  {
   "cell_type": "markdown",
   "metadata": {},
   "source": [
    "## Task 2.1\n",
    "\n",
    "Deklariere eine Funktion `isBiggerThanZero'` mit denselben Eigenschaften wie in Task 1.1 beschrieben. Verzichte auf if-then-else Expressions und verwende Pattern Matching. \n",
    " \n",
    "Tipp: Guarding Rules + Wildcard"
   ]
  },
  {
   "cell_type": "code",
   "execution_count": null,
   "metadata": {
    "dotnet_interactive": {
     "language": "fsharp"
    }
   },
   "outputs": [],
   "source": [
    "\n"
   ]
  },
  {
   "cell_type": "markdown",
   "metadata": {},
   "source": [
    "## Task 2.2\n",
    "\n",
    "Gegeben ist die UnionCase Definition `Monat` und die UnionCase Definition `Jahreszeit`.\n",
    "\n",
    "Deklariere eine Funktion, die einen Parameter `m` vom Typ `Monat` besitzt. Verwende Pattern Matching, um die korrekte Jahreszeit für den Monat zurueckzugeben. Der Rueckgabewert sollte vom Typ `Jahreszeit` sein."
   ]
  },
  {
   "cell_type": "code",
   "execution_count": null,
   "metadata": {
    "dotnet_interactive": {
     "language": "fsharp"
    }
   },
   "outputs": [],
   "source": [
    "type Monat =\n",
    "    | Januar\n",
    "    | Februar\n",
    "    | Maerz\n",
    "    | April\n",
    "    | Mai\n",
    "    | Juni\n",
    "    | Juli\n",
    "    | August\n",
    "    | September\n",
    "    | Oktober\n",
    "    | November\n",
    "    | Dezember\n",
    "\n",
    "type Jahreszeit =\n",
    "    | Fruehling\n",
    "    | Sommer\n",
    "    | Herbst\n",
    "    | Winter    \n"
   ]
  },
  {
   "cell_type": "markdown",
   "metadata": {},
   "source": [
    "## Task 2.3\n",
    "\n",
    "Deklariere einen Record type `Person`, mit den Feldern `FirstName: string` und `LastName: string`. Deklariere eine Funktion `isMueller`, die einen Parameter vom Typ `Person` erhaelt und `true` zurueckgibt, falls `LastName` `\"Mueller\"` ist. Verwende Pattern Matching in Kombination mit Record Type deconstruction. Der Rueckgabewert sollte vom Typ `bool` sein.\n",
    "\n",
    "Tipp: [Pattern Matching mit Record Types](https://docs.microsoft.com/en-us/dotnet/fsharp/language-reference/records#pattern-matching-with-records)"
   ]
  },
  {
   "cell_type": "code",
   "execution_count": null,
   "metadata": {
    "dotnet_interactive": {
     "language": "fsharp"
    }
   },
   "outputs": [],
   "source": [
    "\n"
   ]
  },
  {
   "cell_type": "markdown",
   "metadata": {},
   "source": [
    "# Task 3: Schleifen"
   ]
  },
  {
   "cell_type": "markdown",
   "metadata": {},
   "source": [
    "## Task 3.1\n",
    "\n",
    "Deklariere eine Funktion `printNumbersToN`, die einen Parameter `n` vom Typ `int` erhaelt.  \n",
    "Die Funktion soll alle ganzen Zahlen von 1 bis, inklusive, n in der Konsole ausgeben (Tipp: `printfn`). Benutze dafuer eine `for`-Loop. Der Rueckgabewert sollte vom Typ `unit` sein."
   ]
  },
  {
   "cell_type": "code",
   "execution_count": null,
   "metadata": {
    "dotnet_interactive": {
     "language": "fsharp"
    }
   },
   "outputs": [],
   "source": [
    "\n"
   ]
  },
  {
   "cell_type": "markdown",
   "metadata": {},
   "source": [
    "## Task 3.2\n",
    "\n",
    "Deklariere eine Funktion `createNumberListToN`, die einen Parameter `n` vom Typ `int` erhaelt. Die Funktion soll eine Liste aller ganzen Zahlen von 1 bis, inklusive, `n` zurueckgeben. Der Rueckgabewert sollte vom Typ `int list` sein.\n",
    "\n",
    "Tipps: Sequence Expressions, Comprehensions  \n",
    "\n",
    "**Extra Punkt:** Deklariere eine Funktion `createEvenNumberListToN`, nach den gleichen Regeln wie `createNumberListToN`, außer das der Rueckgabewert nur ganze gerade Zahlen beinhalten soll. \n",
    "\n",
    "Tipps: if-then-else, modulo."
   ]
  },
  {
   "cell_type": "code",
   "execution_count": null,
   "metadata": {
    "dotnet_interactive": {
     "language": "fsharp"
    }
   },
   "outputs": [],
   "source": [
    "\n"
   ]
  },
  {
   "cell_type": "markdown",
   "metadata": {},
   "source": [
    "## Task 3.3\n",
    "\n",
    "Deklariere eine Funktion `mapFNumberList`, die einen Parameter `n` vom Typ `int` und einen Parameter `f` mit der Signatur `(int -> int)` erhaelt.  \n",
    "Die Funktion soll `f` auf alle ganzen Zahlen von 1 bis, inklusive, `n` anwenden und dann die Ergebnisse in einer Liste zurueckgeben. Der Rueckgabewert sollte vom Typ `int list` sein.\n",
    "\n",
    "Tipps: Sequence Expressions, Comprehensions."
   ]
  },
  {
   "cell_type": "code",
   "execution_count": null,
   "metadata": {
    "dotnet_interactive": {
     "language": "fsharp"
    }
   },
   "outputs": [],
   "source": [
    "\n"
   ]
  },
  {
   "cell_type": "markdown",
   "metadata": {},
   "source": [
    "# Task 4: Rekursion"
   ]
  },
  {
   "cell_type": "markdown",
   "metadata": {},
   "source": [
    "## Task 4.1\n",
    "\n",
    "Gegeben ist der Union Type `RussianDoll`, der die beruehmten russischen [Matrjoschka](https://de.wikipedia.org/wiki/Matrjoschka) Puppen darstellt. Diese sind bekannt dafür ineinander schachtelbar zu sein. Wir wollen nun eine Funktion schreiben die die Anzahl der ineinander verschachtelten Puppen zählt. Definiere hierfür eine Funktion `zaehlePuppen` die einen Parameter `puppen` vom Typ `RussianDoll` erhält. Verwende match cases um über eine rekursive Funktion die Puppen zu zählen. Der Rueckgabewert der Funktion soll die Anzahl der Puppen vom Typ `int` sein.\n",
    "\n",
    "```fsharp\n",
    "type RussianDoll =\n",
    "| Doll\n",
    "| LayeredDoll of RussianDoll\n",
    "```"
   ]
  },
  {
   "cell_type": "code",
   "execution_count": null,
   "metadata": {
    "dotnet_interactive": {
     "language": "fsharp"
    },
    "polyglot_notebook": {
     "kernelName": "fsharp"
    }
   },
   "outputs": [],
   "source": []
  },
  {
   "cell_type": "markdown",
   "metadata": {},
   "source": [
    "## Task 4.2\n",
    "\n",
    "Schreibe eine rekursive Funktion `befuellenGlas`. Hierbei soll ein Glas so lange mit vordefinierten Wassermengen befuellt werden bis ein bestimmer Grenzwert erreicht ist. Die Funktion hat 3 Parameter:\n",
    "- `glasFuellstand`, vom Typ `float`. Stellt die aktuelle Wassermenge in dem Glas dar.\n",
    "- `wasserMengen`, vom Typ `float list`. Stellt die Reihenfolge und Mengen der hinzuzugebenden Wassermengen dar. Siehe als **Beispiel** `beispielMengen`.\n",
    "- `grenzwert`, vom Typ `float`. Stellt die Menge an Wasser dar die wir nicht überschreiten wollen.\n",
    "\n",
    "Verwende Rekursion vor jedem Fuellschritt die Wassermenge im Glas mit dem Grenzwert abzugleichen, so dass kein die Menge im Wasser nicht erhöht wird, sollte das Ergebnis über den Grenzwert geraten. Der RueckgabeWert der Funktion soll die Menge an Wasser im Glas (vom Typ `float`) sein, bevor das Limit überschritten wird.\n",
    "\n",
    "Tips: \n",
    "- Wie verhaelt sich deine Funktion bei verschiedenen Start-`glasFuellstand`en.\n",
    "- Wie verhaelt sich deine Funktion bei verschiedenen `grenzwert`en.\n",
    "- Wie verhaelt sich deine Funktion bei anderen `wasserMengen`.\n",
    "- Wie verhaelt sich deine Funktion wenn nicht ausreichend `wasserMengen` da sind um das Glas bis zum Grenzwert zu befüllen.\n",
    "\n",
    "```fsharp\n",
    "let emptyGlass = 0.0\n",
    "\n",
    "let beispielMengen : float list = [\n",
    "    0.102; 0.207; 0.001; 0.187; 0.052; 0.147; \n",
    "    0.079; 0.225; 0.115; 0.117; 0.042; 0.081; 0.147; \n",
    "    0.116; 0.024; 0.056; 0.116; 0.041; 0.066; 0.079\n",
    "  ]\n",
    "```\n",
    "\n",
    "**Extra Punkt:** Der Parameter `grenzwert` ändert sich nicht im Laufe der Rekursion. Passe die Funktion `befuellenGlas` so an, dass der Parameter `grenzwert`, nach wie vor als Parameter vom Typ `float` gesetzt werden kann, er aber nicht mehr als Teil der rekursiven Funktion gegeben werden muss.\n"
   ]
  },
  {
   "cell_type": "code",
   "execution_count": null,
   "metadata": {
    "dotnet_interactive": {
     "language": "fsharp"
    }
   },
   "outputs": [],
   "source": []
  },
  {
   "cell_type": "markdown",
   "metadata": {},
   "source": [
    "## Task 4.3\n",
    "\n",
    "Modifiziere die folgende Funktion `facultaet` (bekannt aus der Vorlesung) so, dass sie -1 zurueckgibt, falls abzusehen ist, dass das Ergebnis groesser als 1000 wird. Der Rueckgabewert sollte vom Typ `int` sein.\n",
    "\n",
    "Tipp: Hier hilft die `print`-Funktion um Zwischenergebnisse zu visualisieren und die Funktion besser zu verstehen. Z. B.: `printfn \"n:%i, acc':%i\" n acc`.\n",
    "\n",
    "```fsharp\n",
    "let rec facultaet acc n  =\n",
    "    if n = 1 then\n",
    "        acc \n",
    "    else\n",
    "        let acc' = n * acc\n",
    "        facultaet acc' (n-1)\n",
    "\n",
    "facultaet 1 4\n",
    "```"
   ]
  },
  {
   "cell_type": "code",
   "execution_count": null,
   "metadata": {
    "dotnet_interactive": {
     "language": "fsharp"
    }
   },
   "outputs": [],
   "source": []
  }
 ],
 "metadata": {
  "kernelspec": {
   "display_name": ".NET (C#)",
   "language": "C#",
   "name": ".net-csharp"
  },
  "langauge_info": {
   "file_extension": ".fs",
   "mimetype": "text/x-fsharp",
   "name": "C#",
   "pygments_lexer": "fsharp",
   "version": "4.5"
  },
  "language_info": {
   "name": "polyglot-notebook"
  },
  "polyglot_notebook": {
   "kernelInfo": {
    "defaultKernelName": "csharp",
    "items": [
     {
      "aliases": [],
      "name": "csharp"
     },
     {
      "aliases": [],
      "name": "fsharp"
     }
    ]
   }
  }
 },
 "nbformat": 4,
 "nbformat_minor": 1
}
