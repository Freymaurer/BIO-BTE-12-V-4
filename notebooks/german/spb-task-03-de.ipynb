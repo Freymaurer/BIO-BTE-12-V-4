{
 "cells": [
  {
   "cell_type": "markdown",
   "metadata": {},
   "source": [
    "# SPB III: Control Flow\n",
    "---\n",
    "\n",
    "In dieser Übung werden Sie an den Umgang mit konditionellen Anweisungen, Schleifen und rekursiven Funktionen herangeführt.\n",
    "\n",
    "Hinweise:\n",
    "- Denkt daran, dass das Ergebniss jeder Abzweigung einer konditionellen Anweisung vom gleichen Typ sein muss.\n",
    "- Außerhalb einer \"Sequence Expression\" können Schleifen nur ein Ergebnis des Typs Unit zurückgeben.\n"
   ]
  },
  {
   "cell_type": "markdown",
   "metadata": {},
   "source": [
    "# Task 1: If-then-else"
   ]
  },
  {
   "cell_type": "markdown",
   "metadata": {},
   "source": [
    "## Task 1.1\n",
    "\n",
    "Deklariere eine Funktion `isBiggerThanZero`, die einen Parameter `x` vom Typ `float` erhaelt. Ist der Wert von `x` groesser Null, soll die Funktion `true` zurückgeben. Falls nicht, soll `false` zurueckgegeben werden. Der Rueckgabewert sollte vom Typ `bool` sein."
   ]
  },
  {
   "cell_type": "code",
   "execution_count": null,
   "metadata": {
    "dotnet_interactive": {
     "language": "fsharp"
    }
   },
   "outputs": [],
   "source": [
    "\n"
   ]
  },
  {
   "cell_type": "markdown",
   "metadata": {},
   "source": [
    "## Task 1.2\n",
    "\n",
    "Deklariere eine Funktion `returnBiggestOfThree`, die drei Zahlen vom Typ `float` als Parameter bekommt. Die groesste der drei Zahlen soll als Ergebnis, vom Typ `float`, ausgegeben werden.\n",
    "\n",
    "Tipp: `elif`"
   ]
  },
  {
   "cell_type": "code",
   "execution_count": null,
   "metadata": {
    "dotnet_interactive": {
     "language": "fsharp"
    }
   },
   "outputs": [],
   "source": [
    "\n"
   ]
  },
  {
   "cell_type": "markdown",
   "metadata": {},
   "source": [
    "## Task 1.3\n",
    "\n",
    "Deklariere eine Funktion `isLeapYear`, die eine Jahreszahl als Parameter vom Typ `int` bekommt. Wenn es sich um ein Schaltjahr handelt, soll das Ergebnis `true` sein, andernfalls `false`. Der Rueckgabewert sollte vom Typ `bool` sein.\n",
    "\n",
    "Tipps:  \n",
    "- Ist die Jahreszahl durch vier teilbar, aber nicht durch 100, ist es ein Schaltjahr. 2008 faellt unter diese Regel.  \n",
    "- Ist die Jahreszahl durch 100 teilbar, aber nicht durch 400, ist es kein Schaltjahr. 2100 wird kein Schaltjahr sein.  \n",
    "- Ist die Jahreszahl durch 400 teilbar, dann ist es immer ein Schaltjahr. Deshalb war das Jahr 2000 ein Schaltjahr."
   ]
  },
  {
   "cell_type": "code",
   "execution_count": null,
   "metadata": {
    "dotnet_interactive": {
     "language": "fsharp"
    }
   },
   "outputs": [],
   "source": [
    "\n"
   ]
  },
  {
   "cell_type": "markdown",
   "metadata": {},
   "source": [
    "# Task 2: Pattern matching"
   ]
  },
  {
   "cell_type": "markdown",
   "metadata": {},
   "source": [
    "## Task 2.1\n",
    "\n",
    "Deklariere eine Funktion `isBiggerThanZero'` mit denselben Eigenschaften wie in Task 1.1 beschrieben. Verzichte auf if-then-else Expressions und verwende Pattern Matching. \n",
    " \n",
    "Tipp: Guarding Rules + Wildcard"
   ]
  },
  {
   "cell_type": "code",
   "execution_count": null,
   "metadata": {
    "dotnet_interactive": {
     "language": "fsharp"
    }
   },
   "outputs": [],
   "source": [
    "\n"
   ]
  },
  {
   "cell_type": "markdown",
   "metadata": {},
   "source": [
    "## Task 2.2\n",
    "\n",
    "Gegeben ist die UnionCase Definition `Monat` und die UnionCase Definition `Jahreszeit`.\n",
    "\n",
    "Deklariere eine Funktion, die einen Parameter `m` vom Typ `Monat` besitzt. Verwende Pattern Matching, um die korrekte Jahreszeit für den Monat zurueckzugeben. Der Rueckgabewert sollte vom Typ `Jahreszeit` sein."
   ]
  },
  {
   "cell_type": "code",
   "execution_count": null,
   "metadata": {
    "dotnet_interactive": {
     "language": "fsharp"
    }
   },
   "outputs": [],
   "source": [
    "type Monat =\n",
    "    | Januar\n",
    "    | Februar\n",
    "    | Maerz\n",
    "    | April\n",
    "    | Mai\n",
    "    | Juni\n",
    "    | Juli\n",
    "    | August\n",
    "    | September\n",
    "    | Oktober\n",
    "    | November\n",
    "    | Dezember\n",
    "\n",
    "type Jahreszeit =\n",
    "    | Fruehling\n",
    "    | Sommer\n",
    "    | Herbst\n",
    "    | Winter    \n"
   ]
  },
  {
   "cell_type": "markdown",
   "metadata": {},
   "source": [
    "## Task 2.3\n",
    "\n",
    "Deklariere einen Record type `Person`, mit den Feldern `FirstName: string` und `LastName: string`. Deklariere eine Funktion `isMueller`, die einen Parameter vom Typ `Person` erhaelt und `true` zurueckgibt, falls `LastName` `\"Mueller\"` ist. Verwende Pattern Matching in Kombination mit Record Type deconstruction. Der Rueckgabewert sollte vom Typ `bool` sein.\n",
    "\n",
    "Tipp: [Pattern Matching mit Record Types](https://docs.microsoft.com/en-us/dotnet/fsharp/language-reference/records#pattern-matching-with-records)"
   ]
  },
  {
   "cell_type": "code",
   "execution_count": null,
   "metadata": {
    "dotnet_interactive": {
     "language": "fsharp"
    }
   },
   "outputs": [],
   "source": [
    "\n"
   ]
  },
  {
   "cell_type": "markdown",
   "metadata": {},
   "source": [
    "# Task 3: Schleifen"
   ]
  },
  {
   "cell_type": "markdown",
   "metadata": {},
   "source": [
    "## Task 3.1\n",
    "\n",
    "Deklariere eine Funktion `printNumbersToN`, die einen Parameter `n` vom Typ `int` erhaelt.  \n",
    "Die Funktion soll alle ganzen Zahlen von 1 bis, inklusive, n in der Konsole ausgeben (Tipp: `printfn`). Benutze dafuer eine `for`-Loop. Der Rueckgabewert sollte vom Typ `unit` sein."
   ]
  },
  {
   "cell_type": "code",
   "execution_count": null,
   "metadata": {
    "dotnet_interactive": {
     "language": "fsharp"
    }
   },
   "outputs": [],
   "source": [
    "\n"
   ]
  },
  {
   "cell_type": "markdown",
   "metadata": {},
   "source": [
    "## Task 3.2\n",
    "\n",
    "Deklariere eine Funktion `createNumberListToN`, die einen Parameter `n` vom Typ `int` erhaelt. Die Funktion soll eine Liste aller ganzen Zahlen von 1 bis, inklusive, `n` zurueckgeben. Der Rueckgabewert sollte vom Typ `int list` sein.\n",
    "\n",
    "Tipps: Sequence Expressions, Comprehensions  \n",
    "\n",
    "**Extra Punkt:** Deklariere eine Funktion `createEvenNumberListToN`, nach den gleichen Regeln wie `createNumberListToN`, außer das der Rueckgabewert nur ganze gerade Zahlen beinhalten soll. \n",
    "\n",
    "Tipps: if-then-else, modulo."
   ]
  },
  {
   "cell_type": "code",
   "execution_count": null,
   "metadata": {
    "dotnet_interactive": {
     "language": "fsharp"
    }
   },
   "outputs": [],
   "source": [
    "\n"
   ]
  },
  {
   "cell_type": "markdown",
   "metadata": {},
   "source": [
    "## Task 3.3\n",
    "\n",
    "Deklariere eine Funktion `mapFNumberList`, die einen Parameter `n` vom Typ `int` und einen Parameter `f` mit der Signatur `(int -> int)` erhaelt.  \n",
    "Die Funktion soll `f` auf alle ganzen Zahlen von 1 bis, inklusive, `n` anwenden und dann die Ergebnisse in einer Liste zurueckgeben. Der Rueckgabewert sollte vom Typ `int list` sein.\n",
    "\n",
    "Tipps: Sequence Expressions, Comprehensions."
   ]
  },
  {
   "cell_type": "code",
   "execution_count": null,
   "metadata": {
    "dotnet_interactive": {
     "language": "fsharp"
    }
   },
   "outputs": [],
   "source": [
    "\n"
   ]
  },
  {
   "cell_type": "markdown",
   "metadata": {},
   "source": [
    "# Task 4: Rekursion"
   ]
  },
  {
   "cell_type": "markdown",
   "metadata": {},
   "source": [
    "## Task 4.1\n",
    "\n",
    "Modifiziere folgende Funktion `stufeSteigen` (bekannt aus der Vorlesung) so, dass sie am Ende ausgibt wie viele Stufen bewaeltigt wurden. Wobei `nStufen` die Anzahl der zu steigenden Stufen ist und `position` die Startposition darstellt. Der Rueckgabewert sollte die Anzahl der tatsächlich gestiegenen Stufen und vom Typ `int` sein.\n",
    "\n",
    "Die Funktion darf in so weit angepasst werden, dass `nStufen` und `position` nach wie vor als Parameter gegeben sein müssen und das Schritte steigen weiterhin rekursiv abgehandelt werden soll. \n",
    "\n",
    "```fsharp\n",
    "let rec stufeSteigen (nStufen: int) (position: int) =\n",
    "    if position = nStufen + 1 then\n",
    "        printfn \"Puh, geschafft\"\n",
    "    else\n",
    "        printfn \"Ich sollte mehr Sport machen\"\n",
    "        stufeSteigen nStufen (position + 1)\n",
    "```\n"
   ]
  },
  {
   "cell_type": "code",
   "execution_count": null,
   "metadata": {
    "dotnet_interactive": {
     "language": "fsharp"
    }
   },
   "outputs": [],
   "source": [
    "\n"
   ]
  },
  {
   "cell_type": "markdown",
   "metadata": {},
   "source": [
    "## Task 4.2\n",
    "\n",
    "Modifiziere die folgende Funktion `facultaet` (bekannt aus der Vorlesung) so, dass sie -1 zurueckgibt, falls abzusehen ist, dass das Ergebnis groesser als 1000 wird. Der Rueckgabewert sollte vom Typ `int` sein.\n",
    "\n",
    "Tipp: Hier hilft die `print`-Funktion um Zwischenergebnisse zu visualisieren und die Funktion besser zu verstehen. Z. B.: `printfn \"n:%i, acc':%i\" n acc`.\n",
    "\n",
    "```fsharp\n",
    "let rec facultaet acc n  =\n",
    "    if n = 1 then\n",
    "        acc \n",
    "    else\n",
    "        let acc' = n * acc\n",
    "        facultaet acc' (n-1)\n",
    "\n",
    "facultaet 1 4\n",
    "```"
   ]
  },
  {
   "cell_type": "code",
   "execution_count": null,
   "metadata": {
    "dotnet_interactive": {
     "language": "fsharp"
    }
   },
   "outputs": [],
   "source": []
  }
 ],
 "metadata": {
  "kernelspec": {
   "display_name": ".NET (F#)",
   "language": "F#",
   "name": ".net-fsharp"
  },
  "langauge_info": {
   "file_extension": ".fs",
   "mimetype": "text/x-fsharp",
   "name": "C#",
   "pygments_lexer": "fsharp",
   "version": "4.5"
  },
  "language_info": {
   "name": "polyglot-notebook"
  },
  "polyglot_notebook": {
   "kernelInfo": {
    "defaultKernelName": "fsharp",
    "items": [
     {
      "aliases": [],
      "name": "fsharp"
     }
    ]
   }
  }
 },
 "nbformat": 4,
 "nbformat_minor": 1
}
